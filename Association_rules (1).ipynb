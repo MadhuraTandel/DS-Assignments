{
  "nbformat": 4,
  "nbformat_minor": 0,
  "metadata": {
    "colab": {
      "provenance": []
    },
    "kernelspec": {
      "name": "python3",
      "display_name": "Python 3"
    },
    "language_info": {
      "name": "python"
    }
  },
  "cells": [
    {
      "cell_type": "code",
      "execution_count": null,
      "metadata": {
        "id": "qxHf2GoVn3s6"
      },
      "outputs": [],
      "source": [
        "import numpy as np\n",
        "import matplotlib.pyplot as plt\n",
        "import pandas as pd"
      ]
    },
    {
      "cell_type": "code",
      "source": [
        "df=pd.read_excel('Online retail.xlsx',header=None)\n",
        "df"
      ],
      "metadata": {
        "colab": {
          "base_uri": "https://localhost:8080/",
          "height": 423
        },
        "id": "ujWje7Y2oKD0",
        "outputId": "2fbda8c2-990d-41a7-c324-d1ad0058b864"
      },
      "execution_count": null,
      "outputs": [
        {
          "output_type": "execute_result",
          "data": {
            "text/plain": [
              "                                                      0\n",
              "0     shrimp,almonds,avocado,vegetables mix,green gr...\n",
              "1                                burgers,meatballs,eggs\n",
              "2                                               chutney\n",
              "3                                        turkey,avocado\n",
              "4     mineral water,milk,energy bar,whole wheat rice...\n",
              "...                                                 ...\n",
              "7496                      butter,light mayo,fresh bread\n",
              "7497  burgers,frozen vegetables,eggs,french fries,ma...\n",
              "7498                                            chicken\n",
              "7499                                 escalope,green tea\n",
              "7500    eggs,frozen smoothie,yogurt cake,low fat yogurt\n",
              "\n",
              "[7501 rows x 1 columns]"
            ],
            "text/html": [
              "\n",
              "  <div id=\"df-3d0d6be5-b1c5-4186-a4e3-b7722926db37\" class=\"colab-df-container\">\n",
              "    <div>\n",
              "<style scoped>\n",
              "    .dataframe tbody tr th:only-of-type {\n",
              "        vertical-align: middle;\n",
              "    }\n",
              "\n",
              "    .dataframe tbody tr th {\n",
              "        vertical-align: top;\n",
              "    }\n",
              "\n",
              "    .dataframe thead th {\n",
              "        text-align: right;\n",
              "    }\n",
              "</style>\n",
              "<table border=\"1\" class=\"dataframe\">\n",
              "  <thead>\n",
              "    <tr style=\"text-align: right;\">\n",
              "      <th></th>\n",
              "      <th>0</th>\n",
              "    </tr>\n",
              "  </thead>\n",
              "  <tbody>\n",
              "    <tr>\n",
              "      <th>0</th>\n",
              "      <td>shrimp,almonds,avocado,vegetables mix,green gr...</td>\n",
              "    </tr>\n",
              "    <tr>\n",
              "      <th>1</th>\n",
              "      <td>burgers,meatballs,eggs</td>\n",
              "    </tr>\n",
              "    <tr>\n",
              "      <th>2</th>\n",
              "      <td>chutney</td>\n",
              "    </tr>\n",
              "    <tr>\n",
              "      <th>3</th>\n",
              "      <td>turkey,avocado</td>\n",
              "    </tr>\n",
              "    <tr>\n",
              "      <th>4</th>\n",
              "      <td>mineral water,milk,energy bar,whole wheat rice...</td>\n",
              "    </tr>\n",
              "    <tr>\n",
              "      <th>...</th>\n",
              "      <td>...</td>\n",
              "    </tr>\n",
              "    <tr>\n",
              "      <th>7496</th>\n",
              "      <td>butter,light mayo,fresh bread</td>\n",
              "    </tr>\n",
              "    <tr>\n",
              "      <th>7497</th>\n",
              "      <td>burgers,frozen vegetables,eggs,french fries,ma...</td>\n",
              "    </tr>\n",
              "    <tr>\n",
              "      <th>7498</th>\n",
              "      <td>chicken</td>\n",
              "    </tr>\n",
              "    <tr>\n",
              "      <th>7499</th>\n",
              "      <td>escalope,green tea</td>\n",
              "    </tr>\n",
              "    <tr>\n",
              "      <th>7500</th>\n",
              "      <td>eggs,frozen smoothie,yogurt cake,low fat yogurt</td>\n",
              "    </tr>\n",
              "  </tbody>\n",
              "</table>\n",
              "<p>7501 rows × 1 columns</p>\n",
              "</div>\n",
              "    <div class=\"colab-df-buttons\">\n",
              "\n",
              "  <div class=\"colab-df-container\">\n",
              "    <button class=\"colab-df-convert\" onclick=\"convertToInteractive('df-3d0d6be5-b1c5-4186-a4e3-b7722926db37')\"\n",
              "            title=\"Convert this dataframe to an interactive table.\"\n",
              "            style=\"display:none;\">\n",
              "\n",
              "  <svg xmlns=\"http://www.w3.org/2000/svg\" height=\"24px\" viewBox=\"0 -960 960 960\">\n",
              "    <path d=\"M120-120v-720h720v720H120Zm60-500h600v-160H180v160Zm220 220h160v-160H400v160Zm0 220h160v-160H400v160ZM180-400h160v-160H180v160Zm440 0h160v-160H620v160ZM180-180h160v-160H180v160Zm440 0h160v-160H620v160Z\"/>\n",
              "  </svg>\n",
              "    </button>\n",
              "\n",
              "  <style>\n",
              "    .colab-df-container {\n",
              "      display:flex;\n",
              "      gap: 12px;\n",
              "    }\n",
              "\n",
              "    .colab-df-convert {\n",
              "      background-color: #E8F0FE;\n",
              "      border: none;\n",
              "      border-radius: 50%;\n",
              "      cursor: pointer;\n",
              "      display: none;\n",
              "      fill: #1967D2;\n",
              "      height: 32px;\n",
              "      padding: 0 0 0 0;\n",
              "      width: 32px;\n",
              "    }\n",
              "\n",
              "    .colab-df-convert:hover {\n",
              "      background-color: #E2EBFA;\n",
              "      box-shadow: 0px 1px 2px rgba(60, 64, 67, 0.3), 0px 1px 3px 1px rgba(60, 64, 67, 0.15);\n",
              "      fill: #174EA6;\n",
              "    }\n",
              "\n",
              "    .colab-df-buttons div {\n",
              "      margin-bottom: 4px;\n",
              "    }\n",
              "\n",
              "    [theme=dark] .colab-df-convert {\n",
              "      background-color: #3B4455;\n",
              "      fill: #D2E3FC;\n",
              "    }\n",
              "\n",
              "    [theme=dark] .colab-df-convert:hover {\n",
              "      background-color: #434B5C;\n",
              "      box-shadow: 0px 1px 3px 1px rgba(0, 0, 0, 0.15);\n",
              "      filter: drop-shadow(0px 1px 2px rgba(0, 0, 0, 0.3));\n",
              "      fill: #FFFFFF;\n",
              "    }\n",
              "  </style>\n",
              "\n",
              "    <script>\n",
              "      const buttonEl =\n",
              "        document.querySelector('#df-3d0d6be5-b1c5-4186-a4e3-b7722926db37 button.colab-df-convert');\n",
              "      buttonEl.style.display =\n",
              "        google.colab.kernel.accessAllowed ? 'block' : 'none';\n",
              "\n",
              "      async function convertToInteractive(key) {\n",
              "        const element = document.querySelector('#df-3d0d6be5-b1c5-4186-a4e3-b7722926db37');\n",
              "        const dataTable =\n",
              "          await google.colab.kernel.invokeFunction('convertToInteractive',\n",
              "                                                    [key], {});\n",
              "        if (!dataTable) return;\n",
              "\n",
              "        const docLinkHtml = 'Like what you see? Visit the ' +\n",
              "          '<a target=\"_blank\" href=https://colab.research.google.com/notebooks/data_table.ipynb>data table notebook</a>'\n",
              "          + ' to learn more about interactive tables.';\n",
              "        element.innerHTML = '';\n",
              "        dataTable['output_type'] = 'display_data';\n",
              "        await google.colab.output.renderOutput(dataTable, element);\n",
              "        const docLink = document.createElement('div');\n",
              "        docLink.innerHTML = docLinkHtml;\n",
              "        element.appendChild(docLink);\n",
              "      }\n",
              "    </script>\n",
              "  </div>\n",
              "\n",
              "\n",
              "    <div id=\"df-7bd047c0-5caa-43b7-9d88-2e3d8432376a\">\n",
              "      <button class=\"colab-df-quickchart\" onclick=\"quickchart('df-7bd047c0-5caa-43b7-9d88-2e3d8432376a')\"\n",
              "                title=\"Suggest charts\"\n",
              "                style=\"display:none;\">\n",
              "\n",
              "<svg xmlns=\"http://www.w3.org/2000/svg\" height=\"24px\"viewBox=\"0 0 24 24\"\n",
              "     width=\"24px\">\n",
              "    <g>\n",
              "        <path d=\"M19 3H5c-1.1 0-2 .9-2 2v14c0 1.1.9 2 2 2h14c1.1 0 2-.9 2-2V5c0-1.1-.9-2-2-2zM9 17H7v-7h2v7zm4 0h-2V7h2v10zm4 0h-2v-4h2v4z\"/>\n",
              "    </g>\n",
              "</svg>\n",
              "      </button>\n",
              "\n",
              "<style>\n",
              "  .colab-df-quickchart {\n",
              "      --bg-color: #E8F0FE;\n",
              "      --fill-color: #1967D2;\n",
              "      --hover-bg-color: #E2EBFA;\n",
              "      --hover-fill-color: #174EA6;\n",
              "      --disabled-fill-color: #AAA;\n",
              "      --disabled-bg-color: #DDD;\n",
              "  }\n",
              "\n",
              "  [theme=dark] .colab-df-quickchart {\n",
              "      --bg-color: #3B4455;\n",
              "      --fill-color: #D2E3FC;\n",
              "      --hover-bg-color: #434B5C;\n",
              "      --hover-fill-color: #FFFFFF;\n",
              "      --disabled-bg-color: #3B4455;\n",
              "      --disabled-fill-color: #666;\n",
              "  }\n",
              "\n",
              "  .colab-df-quickchart {\n",
              "    background-color: var(--bg-color);\n",
              "    border: none;\n",
              "    border-radius: 50%;\n",
              "    cursor: pointer;\n",
              "    display: none;\n",
              "    fill: var(--fill-color);\n",
              "    height: 32px;\n",
              "    padding: 0;\n",
              "    width: 32px;\n",
              "  }\n",
              "\n",
              "  .colab-df-quickchart:hover {\n",
              "    background-color: var(--hover-bg-color);\n",
              "    box-shadow: 0 1px 2px rgba(60, 64, 67, 0.3), 0 1px 3px 1px rgba(60, 64, 67, 0.15);\n",
              "    fill: var(--button-hover-fill-color);\n",
              "  }\n",
              "\n",
              "  .colab-df-quickchart-complete:disabled,\n",
              "  .colab-df-quickchart-complete:disabled:hover {\n",
              "    background-color: var(--disabled-bg-color);\n",
              "    fill: var(--disabled-fill-color);\n",
              "    box-shadow: none;\n",
              "  }\n",
              "\n",
              "  .colab-df-spinner {\n",
              "    border: 2px solid var(--fill-color);\n",
              "    border-color: transparent;\n",
              "    border-bottom-color: var(--fill-color);\n",
              "    animation:\n",
              "      spin 1s steps(1) infinite;\n",
              "  }\n",
              "\n",
              "  @keyframes spin {\n",
              "    0% {\n",
              "      border-color: transparent;\n",
              "      border-bottom-color: var(--fill-color);\n",
              "      border-left-color: var(--fill-color);\n",
              "    }\n",
              "    20% {\n",
              "      border-color: transparent;\n",
              "      border-left-color: var(--fill-color);\n",
              "      border-top-color: var(--fill-color);\n",
              "    }\n",
              "    30% {\n",
              "      border-color: transparent;\n",
              "      border-left-color: var(--fill-color);\n",
              "      border-top-color: var(--fill-color);\n",
              "      border-right-color: var(--fill-color);\n",
              "    }\n",
              "    40% {\n",
              "      border-color: transparent;\n",
              "      border-right-color: var(--fill-color);\n",
              "      border-top-color: var(--fill-color);\n",
              "    }\n",
              "    60% {\n",
              "      border-color: transparent;\n",
              "      border-right-color: var(--fill-color);\n",
              "    }\n",
              "    80% {\n",
              "      border-color: transparent;\n",
              "      border-right-color: var(--fill-color);\n",
              "      border-bottom-color: var(--fill-color);\n",
              "    }\n",
              "    90% {\n",
              "      border-color: transparent;\n",
              "      border-bottom-color: var(--fill-color);\n",
              "    }\n",
              "  }\n",
              "</style>\n",
              "\n",
              "      <script>\n",
              "        async function quickchart(key) {\n",
              "          const quickchartButtonEl =\n",
              "            document.querySelector('#' + key + ' button');\n",
              "          quickchartButtonEl.disabled = true;  // To prevent multiple clicks.\n",
              "          quickchartButtonEl.classList.add('colab-df-spinner');\n",
              "          try {\n",
              "            const charts = await google.colab.kernel.invokeFunction(\n",
              "                'suggestCharts', [key], {});\n",
              "          } catch (error) {\n",
              "            console.error('Error during call to suggestCharts:', error);\n",
              "          }\n",
              "          quickchartButtonEl.classList.remove('colab-df-spinner');\n",
              "          quickchartButtonEl.classList.add('colab-df-quickchart-complete');\n",
              "        }\n",
              "        (() => {\n",
              "          let quickchartButtonEl =\n",
              "            document.querySelector('#df-7bd047c0-5caa-43b7-9d88-2e3d8432376a button');\n",
              "          quickchartButtonEl.style.display =\n",
              "            google.colab.kernel.accessAllowed ? 'block' : 'none';\n",
              "        })();\n",
              "      </script>\n",
              "    </div>\n",
              "\n",
              "  <div id=\"id_18786cb7-3027-4f25-a8f9-48c276684a2e\">\n",
              "    <style>\n",
              "      .colab-df-generate {\n",
              "        background-color: #E8F0FE;\n",
              "        border: none;\n",
              "        border-radius: 50%;\n",
              "        cursor: pointer;\n",
              "        display: none;\n",
              "        fill: #1967D2;\n",
              "        height: 32px;\n",
              "        padding: 0 0 0 0;\n",
              "        width: 32px;\n",
              "      }\n",
              "\n",
              "      .colab-df-generate:hover {\n",
              "        background-color: #E2EBFA;\n",
              "        box-shadow: 0px 1px 2px rgba(60, 64, 67, 0.3), 0px 1px 3px 1px rgba(60, 64, 67, 0.15);\n",
              "        fill: #174EA6;\n",
              "      }\n",
              "\n",
              "      [theme=dark] .colab-df-generate {\n",
              "        background-color: #3B4455;\n",
              "        fill: #D2E3FC;\n",
              "      }\n",
              "\n",
              "      [theme=dark] .colab-df-generate:hover {\n",
              "        background-color: #434B5C;\n",
              "        box-shadow: 0px 1px 3px 1px rgba(0, 0, 0, 0.15);\n",
              "        filter: drop-shadow(0px 1px 2px rgba(0, 0, 0, 0.3));\n",
              "        fill: #FFFFFF;\n",
              "      }\n",
              "    </style>\n",
              "    <button class=\"colab-df-generate\" onclick=\"generateWithVariable('df')\"\n",
              "            title=\"Generate code using this dataframe.\"\n",
              "            style=\"display:none;\">\n",
              "\n",
              "  <svg xmlns=\"http://www.w3.org/2000/svg\" height=\"24px\"viewBox=\"0 0 24 24\"\n",
              "       width=\"24px\">\n",
              "    <path d=\"M7,19H8.4L18.45,9,17,7.55,7,17.6ZM5,21V16.75L18.45,3.32a2,2,0,0,1,2.83,0l1.4,1.43a1.91,1.91,0,0,1,.58,1.4,1.91,1.91,0,0,1-.58,1.4L9.25,21ZM18.45,9,17,7.55Zm-12,3A5.31,5.31,0,0,0,4.9,8.1,5.31,5.31,0,0,0,1,6.5,5.31,5.31,0,0,0,4.9,4.9,5.31,5.31,0,0,0,6.5,1,5.31,5.31,0,0,0,8.1,4.9,5.31,5.31,0,0,0,12,6.5,5.46,5.46,0,0,0,6.5,12Z\"/>\n",
              "  </svg>\n",
              "    </button>\n",
              "    <script>\n",
              "      (() => {\n",
              "      const buttonEl =\n",
              "        document.querySelector('#id_18786cb7-3027-4f25-a8f9-48c276684a2e button.colab-df-generate');\n",
              "      buttonEl.style.display =\n",
              "        google.colab.kernel.accessAllowed ? 'block' : 'none';\n",
              "\n",
              "      buttonEl.onclick = () => {\n",
              "        google.colab.notebook.generateWithVariable('df');\n",
              "      }\n",
              "      })();\n",
              "    </script>\n",
              "  </div>\n",
              "\n",
              "    </div>\n",
              "  </div>\n"
            ],
            "application/vnd.google.colaboratory.intrinsic+json": {
              "type": "dataframe",
              "variable_name": "df",
              "summary": "{\n  \"name\": \"df\",\n  \"rows\": 7501,\n  \"fields\": [\n    {\n      \"column\": 0,\n      \"properties\": {\n        \"dtype\": \"string\",\n        \"num_unique_values\": 5176,\n        \"samples\": [\n          \"mineral water,carrots,chocolate,escalope,pancakes\",\n          \"ground beef,cookies,toothpaste,green tea\",\n          \"milk,french fries,brownies\"\n        ],\n        \"semantic_type\": \"\",\n        \"description\": \"\"\n      }\n    }\n  ]\n}"
            }
          },
          "metadata": {},
          "execution_count": 14
        }
      ]
    },
    {
      "cell_type": "code",
      "source": [
        "print(\"Initial data shape:\", df.shape)"
      ],
      "metadata": {
        "colab": {
          "base_uri": "https://localhost:8080/"
        },
        "id": "q0Hl2HryoUrb",
        "outputId": "81275099-8781-4599-cbb9-a3d669df3c33"
      },
      "execution_count": null,
      "outputs": [
        {
          "output_type": "stream",
          "name": "stdout",
          "text": [
            "Initial data shape: (7501, 1)\n"
          ]
        }
      ]
    },
    {
      "cell_type": "code",
      "source": [
        "df.isnull().sum()"
      ],
      "metadata": {
        "colab": {
          "base_uri": "https://localhost:8080/",
          "height": 115
        },
        "id": "j8MGGcTGo5XX",
        "outputId": "edb1786c-dad9-417d-8206-feafbbf52322"
      },
      "execution_count": null,
      "outputs": [
        {
          "output_type": "execute_result",
          "data": {
            "text/plain": [
              "0    0\n",
              "dtype: int64"
            ],
            "text/html": [
              "<div>\n",
              "<style scoped>\n",
              "    .dataframe tbody tr th:only-of-type {\n",
              "        vertical-align: middle;\n",
              "    }\n",
              "\n",
              "    .dataframe tbody tr th {\n",
              "        vertical-align: top;\n",
              "    }\n",
              "\n",
              "    .dataframe thead th {\n",
              "        text-align: right;\n",
              "    }\n",
              "</style>\n",
              "<table border=\"1\" class=\"dataframe\">\n",
              "  <thead>\n",
              "    <tr style=\"text-align: right;\">\n",
              "      <th></th>\n",
              "      <th>0</th>\n",
              "    </tr>\n",
              "  </thead>\n",
              "  <tbody>\n",
              "    <tr>\n",
              "      <th>0</th>\n",
              "      <td>0</td>\n",
              "    </tr>\n",
              "  </tbody>\n",
              "</table>\n",
              "</div><br><label><b>dtype:</b> int64</label>"
            ]
          },
          "metadata": {},
          "execution_count": 16
        }
      ]
    },
    {
      "cell_type": "code",
      "source": [
        "print(df.columns)\n"
      ],
      "metadata": {
        "colab": {
          "base_uri": "https://localhost:8080/"
        },
        "id": "8V1dFldjppWl",
        "outputId": "858859b1-cb52-4922-8dbe-3835fcb48bdb"
      },
      "execution_count": null,
      "outputs": [
        {
          "output_type": "stream",
          "name": "stdout",
          "text": [
            "Index([0], dtype='int64')\n"
          ]
        }
      ]
    },
    {
      "cell_type": "code",
      "source": [
        "df.drop_duplicates(inplace=True)\n"
      ],
      "metadata": {
        "id": "WWfxLzKvpLF0"
      },
      "execution_count": null,
      "outputs": []
    },
    {
      "cell_type": "code",
      "source": [
        "pip install pandas mlxtend openpyxl\n"
      ],
      "metadata": {
        "colab": {
          "base_uri": "https://localhost:8080/"
        },
        "id": "ISFDkCd-q1MJ",
        "outputId": "b76d43f0-8005-4308-a35e-95fde32fcc11"
      },
      "execution_count": null,
      "outputs": [
        {
          "output_type": "stream",
          "name": "stdout",
          "text": [
            "Requirement already satisfied: pandas in /usr/local/lib/python3.11/dist-packages (2.2.2)\n",
            "Requirement already satisfied: mlxtend in /usr/local/lib/python3.11/dist-packages (0.23.4)\n",
            "Requirement already satisfied: openpyxl in /usr/local/lib/python3.11/dist-packages (3.1.5)\n",
            "Requirement already satisfied: numpy>=1.23.2 in /usr/local/lib/python3.11/dist-packages (from pandas) (2.0.2)\n",
            "Requirement already satisfied: python-dateutil>=2.8.2 in /usr/local/lib/python3.11/dist-packages (from pandas) (2.8.2)\n",
            "Requirement already satisfied: pytz>=2020.1 in /usr/local/lib/python3.11/dist-packages (from pandas) (2025.2)\n",
            "Requirement already satisfied: tzdata>=2022.7 in /usr/local/lib/python3.11/dist-packages (from pandas) (2025.2)\n",
            "Requirement already satisfied: scipy>=1.2.1 in /usr/local/lib/python3.11/dist-packages (from mlxtend) (1.14.1)\n",
            "Requirement already satisfied: scikit-learn>=1.3.1 in /usr/local/lib/python3.11/dist-packages (from mlxtend) (1.6.1)\n",
            "Requirement already satisfied: matplotlib>=3.0.0 in /usr/local/lib/python3.11/dist-packages (from mlxtend) (3.10.0)\n",
            "Requirement already satisfied: joblib>=0.13.2 in /usr/local/lib/python3.11/dist-packages (from mlxtend) (1.4.2)\n",
            "Requirement already satisfied: et-xmlfile in /usr/local/lib/python3.11/dist-packages (from openpyxl) (2.0.0)\n",
            "Requirement already satisfied: contourpy>=1.0.1 in /usr/local/lib/python3.11/dist-packages (from matplotlib>=3.0.0->mlxtend) (1.3.2)\n",
            "Requirement already satisfied: cycler>=0.10 in /usr/local/lib/python3.11/dist-packages (from matplotlib>=3.0.0->mlxtend) (0.12.1)\n",
            "Requirement already satisfied: fonttools>=4.22.0 in /usr/local/lib/python3.11/dist-packages (from matplotlib>=3.0.0->mlxtend) (4.57.0)\n",
            "Requirement already satisfied: kiwisolver>=1.3.1 in /usr/local/lib/python3.11/dist-packages (from matplotlib>=3.0.0->mlxtend) (1.4.8)\n",
            "Requirement already satisfied: packaging>=20.0 in /usr/local/lib/python3.11/dist-packages (from matplotlib>=3.0.0->mlxtend) (24.2)\n",
            "Requirement already satisfied: pillow>=8 in /usr/local/lib/python3.11/dist-packages (from matplotlib>=3.0.0->mlxtend) (11.1.0)\n",
            "Requirement already satisfied: pyparsing>=2.3.1 in /usr/local/lib/python3.11/dist-packages (from matplotlib>=3.0.0->mlxtend) (3.2.3)\n",
            "Requirement already satisfied: six>=1.5 in /usr/local/lib/python3.11/dist-packages (from python-dateutil>=2.8.2->pandas) (1.17.0)\n",
            "Requirement already satisfied: threadpoolctl>=3.1.0 in /usr/local/lib/python3.11/dist-packages (from scikit-learn>=1.3.1->mlxtend) (3.6.0)\n"
          ]
        }
      ]
    },
    {
      "cell_type": "code",
      "source": [
        "from mlxtend.frequent_patterns import apriori, association_rules\n",
        "from mlxtend.preprocessing import TransactionEncoder\n"
      ],
      "metadata": {
        "id": "LJ_bwPBLsM-n"
      },
      "execution_count": null,
      "outputs": []
    },
    {
      "cell_type": "code",
      "source": [
        "transactions = df.iloc[:, 0].dropna().apply(lambda x: x.split(','))"
      ],
      "metadata": {
        "id": "7Bf-_2I9rXQa"
      },
      "execution_count": null,
      "outputs": []
    },
    {
      "cell_type": "code",
      "source": [
        "te = TransactionEncoder()\n",
        "te_ary = te.fit(transactions).transform(transactions)\n",
        "basket = pd.DataFrame(te_ary, columns=te.columns_)"
      ],
      "metadata": {
        "id": "fWtxtSgardPa"
      },
      "execution_count": null,
      "outputs": []
    },
    {
      "cell_type": "code",
      "source": [
        "frequent_itemsets = apriori(basket, min_support=0.02, use_colnames=True)\n",
        "\n",
        "print(\"Frequent Itemsets:\")\n",
        "print(frequent_itemsets)"
      ],
      "metadata": {
        "colab": {
          "base_uri": "https://localhost:8080/"
        },
        "id": "jhV_jVKdsJhz",
        "outputId": "6affa53d-afdb-4d07-cffa-7e886a1f0896"
      },
      "execution_count": null,
      "outputs": [
        {
          "output_type": "stream",
          "name": "stdout",
          "text": [
            "Frequent Itemsets:\n",
            "      support                                 itemsets\n",
            "0    0.029366                                (almonds)\n",
            "1    0.045981                                (avocado)\n",
            "2    0.020479                              (black tea)\n",
            "3    0.045015                               (brownies)\n",
            "4    0.113794                                (burgers)\n",
            "..        ...                                      ...\n",
            "169  0.020093         (chocolate, mineral water, milk)\n",
            "170  0.022991    (chocolate, spaghetti, mineral water)\n",
            "171  0.020672         (eggs, spaghetti, mineral water)\n",
            "172  0.024730  (spaghetti, mineral water, ground beef)\n",
            "173  0.022604         (spaghetti, mineral water, milk)\n",
            "\n",
            "[174 rows x 2 columns]\n"
          ]
        }
      ]
    },
    {
      "cell_type": "code",
      "source": [
        "rules = association_rules(frequent_itemsets, metric=\"lift\", min_threshold=1)\n"
      ],
      "metadata": {
        "id": "p24MPo-gsV-D"
      },
      "execution_count": null,
      "outputs": []
    },
    {
      "cell_type": "code",
      "source": [
        "rules = rules[(rules['confidence'] >= 0.5) & (rules['lift'] >= 1.2)]\n"
      ],
      "metadata": {
        "id": "bUIhoHFZsZiB"
      },
      "execution_count": null,
      "outputs": []
    },
    {
      "cell_type": "code",
      "source": [
        "print(\"\\nAssociation Rules:\")\n",
        "print(rules[['antecedents', 'consequents', 'support', 'confidence', 'lift']])"
      ],
      "metadata": {
        "colab": {
          "base_uri": "https://localhost:8080/"
        },
        "id": "E8vcbLojsch3",
        "outputId": "030d3b9b-2668-4c30-c07a-25113d9e92a8"
      },
      "execution_count": null,
      "outputs": [
        {
          "output_type": "stream",
          "name": "stdout",
          "text": [
            "\n",
            "Association Rules:\n",
            "Empty DataFrame\n",
            "Columns: [antecedents, consequents, support, confidence, lift]\n",
            "Index: []\n"
          ]
        }
      ]
    },
    {
      "cell_type": "code",
      "source": [
        "rules = rules.sort_values('lift', ascending=False)\n"
      ],
      "metadata": {
        "id": "aVY92zpGse9u"
      },
      "execution_count": null,
      "outputs": []
    },
    {
      "cell_type": "code",
      "source": [
        "frequent_itemsets = apriori(basket, min_support=0.01, use_colnames=True)  # 1% support\n",
        "rules = association_rules(frequent_itemsets, metric=\"confidence\", min_threshold=0.4)   # 40% confidence\n",
        "rules = rules[rules['lift'] >= 1.0]  # lift at least 1\n"
      ],
      "metadata": {
        "id": "xJ8hDCCFt8wU"
      },
      "execution_count": null,
      "outputs": []
    },
    {
      "cell_type": "code",
      "source": [
        "print(\"Rules shape:\", rules.shape)\n",
        "print(rules.head())\n"
      ],
      "metadata": {
        "colab": {
          "base_uri": "https://localhost:8080/"
        },
        "id": "Fu1PaTR-uAjD",
        "outputId": "10133013-bcce-4649-d6dc-4bf8fb1a5d20"
      },
      "execution_count": null,
      "outputs": [
        {
          "output_type": "stream",
          "name": "stdout",
          "text": [
            "Rules shape: (48, 14)\n",
            "     antecedents      consequents  antecedent support  consequent support  \\\n",
            "0  (cooking oil)  (mineral water)            0.071870            0.299845   \n",
            "1  (ground beef)  (mineral water)            0.135819            0.299845   \n",
            "2  (ground beef)      (spaghetti)            0.135819            0.229521   \n",
            "3  (light cream)  (mineral water)            0.022411            0.299845   \n",
            "4    (olive oil)  (mineral water)            0.087713            0.299845   \n",
            "\n",
            "    support  confidence      lift  representativity  leverage  conviction  \\\n",
            "0  0.028980    0.403226  1.344779               1.0  0.007430    1.173232   \n",
            "1  0.058733    0.432432  1.442184               1.0  0.018008    1.233606   \n",
            "2  0.055835    0.411095  1.791102               1.0  0.024661    1.308326   \n",
            "3  0.010626    0.474138  1.581274               1.0  0.003906    1.331441   \n",
            "4  0.038640    0.440529  1.469186               1.0  0.012340    1.251457   \n",
            "\n",
            "   zhangs_metric   jaccard  certainty  kulczynski  \n",
            "0       0.276236  0.084555   0.147654    0.249938  \n",
            "1       0.354795  0.155818   0.189368    0.314154  \n",
            "2       0.511102  0.180400   0.235664    0.327181  \n",
            "3       0.376026  0.034098   0.248934    0.254788  \n",
            "4       0.350055  0.110742   0.200932    0.284697  \n"
          ]
        }
      ]
    },
    {
      "cell_type": "code",
      "source": [
        "print(\"Top 10 Strongest Rules (by Lift):\")\n",
        "top_rules = rules.sort_values('lift', ascending=False).head(10)\n",
        "print(top_rules[['antecedents', 'consequents', 'support', 'confidence', 'lift']])\n"
      ],
      "metadata": {
        "colab": {
          "base_uri": "https://localhost:8080/"
        },
        "id": "jSrGgbbNshXr",
        "outputId": "831daba8-0df7-4e10-8514-19b4b1b4f666"
      },
      "execution_count": null,
      "outputs": [
        {
          "output_type": "stream",
          "name": "stdout",
          "text": [
            "Top 10 Strongest Rules (by Lift):\n",
            "                         antecedents      consequents   support  confidence  \\\n",
            "28  (frozen vegetables, ground beef)      (spaghetti)  0.012558    0.511811   \n",
            "24               (eggs, ground beef)      (spaghetti)  0.012944    0.449664   \n",
            "40                      (soup, milk)  (mineral water)  0.012365    0.576577   \n",
            "33               (milk, ground beef)      (spaghetti)  0.013910    0.439024   \n",
            "20            (olive oil, chocolate)      (spaghetti)  0.010240    0.434426   \n",
            "42                 (olive oil, milk)      (spaghetti)  0.010240    0.424000   \n",
            "36      (mineral water, ground beef)      (spaghetti)  0.024730    0.421053   \n",
            "27  (frozen vegetables, ground beef)  (mineral water)  0.013331    0.543307   \n",
            "2                      (ground beef)      (spaghetti)  0.055835    0.411095   \n",
            "14          (chocolate, ground beef)      (spaghetti)  0.013331    0.401163   \n",
            "\n",
            "        lift  \n",
            "28  2.229911  \n",
            "24  1.959144  \n",
            "40  1.922913  \n",
            "33  1.912786  \n",
            "20  1.892753  \n",
            "42  1.847327  \n",
            "36  1.834485  \n",
            "27  1.811957  \n",
            "2   1.791102  \n",
            "14  1.747827  \n"
          ]
        }
      ]
    },
    {
      "cell_type": "code",
      "source": [
        "from collections import Counter\n",
        "\n",
        "antecedents_list = []\n",
        "for i in rules['antecedents']:\n",
        "    antecedents_list.extend(list(i))\n",
        "antecedent_counts = Counter(antecedents_list)\n",
        "\n",
        "print(\"Most Common Products in Antecedents:\")\n",
        "for product, count in antecedent_counts.most_common(10):\n",
        "    print(f\"{product}: {count} times\")\n",
        "\n",
        "print(\"\\n\" + \"-\"*60 + \"\\n\")"
      ],
      "metadata": {
        "colab": {
          "base_uri": "https://localhost:8080/"
        },
        "id": "SGyjLAXXtBVb",
        "outputId": "604ba916-9f8d-4329-ce9c-843e0b6592fa"
      },
      "execution_count": null,
      "outputs": [
        {
          "output_type": "stream",
          "name": "stdout",
          "text": [
            "Most Common Products in Antecedents:\n",
            "ground beef: 13 times\n",
            "spaghetti: 12 times\n",
            "chocolate: 11 times\n",
            "milk: 11 times\n",
            "frozen vegetables: 7 times\n",
            "olive oil: 6 times\n",
            "eggs: 6 times\n",
            "pancakes: 4 times\n",
            "shrimp: 4 times\n",
            "soup: 3 times\n",
            "\n",
            "------------------------------------------------------------\n",
            "\n"
          ]
        }
      ]
    },
    {
      "cell_type": "code",
      "source": [
        "consequents_list = []\n",
        "for i in rules['consequents']:\n",
        "    consequents_list.extend(list(i))\n",
        "consequent_counts = Counter(consequents_list)\n",
        "\n",
        "print(\"Most Common Products in Consequents:\")\n",
        "for product, count in consequent_counts.most_common(10):\n",
        "    print(f\"{product}: {count} times\")\n",
        "\n",
        "print(\"\\n\" + \"-\"*60 + \"\\n\")\n"
      ],
      "metadata": {
        "colab": {
          "base_uri": "https://localhost:8080/"
        },
        "id": "h90PdEe_tEvG",
        "outputId": "d43c7e62-5f18-4da3-c30e-b3c0150741fb"
      },
      "execution_count": null,
      "outputs": [
        {
          "output_type": "stream",
          "name": "stdout",
          "text": [
            "Most Common Products in Consequents:\n",
            "mineral water: 40 times\n",
            "spaghetti: 8 times\n",
            "\n",
            "------------------------------------------------------------\n",
            "\n"
          ]
        }
      ]
    },
    {
      "cell_type": "code",
      "source": [
        "high_lift_rules = rules[rules['lift'] > 2]\n",
        "high_confidence_rules = rules[rules['confidence'] > 0.7]"
      ],
      "metadata": {
        "id": "kp4WI8JOtIMn"
      },
      "execution_count": null,
      "outputs": []
    },
    {
      "cell_type": "code",
      "source": [
        "print(f\"Number of rules with Lift > 2: {len(high_lift_rules)}\")\n",
        "print(f\"Number of rules with Confidence > 70%: {len(high_confidence_rules)}\")"
      ],
      "metadata": {
        "colab": {
          "base_uri": "https://localhost:8080/"
        },
        "id": "UbreX8PYtUTh",
        "outputId": "b2f5b68a-39f1-456f-cfae-290736f9e5ef"
      },
      "execution_count": null,
      "outputs": [
        {
          "output_type": "stream",
          "name": "stdout",
          "text": [
            "Number of rules with Lift > 2: 0\n",
            "Number of rules with Confidence > 70%: 0\n"
          ]
        }
      ]
    },
    {
      "cell_type": "code",
      "source": [
        "print(\"\\nInterpretation Insights:\")\n",
        "if not high_lift_rules.empty:\n",
        "    print(\"- High Lift rules suggest very strong associations; customers who buy items in the antecedents are very likely to buy the consequents too.\")\n",
        "if not high_confidence_rules.empty:\n",
        "    print(\"- High Confidence rules indicate that when a customer buys antecedent items, there is a high chance (>70%) they will also buy the consequent items.\")\n",
        "\n",
        "print(\"- Frequent items in Antecedents mean they are 'starter' products that lead to other purchases.\")\n",
        "print(\"- Frequent items in Consequents mean they are 'add-on' products often purchased together.\")\n"
      ],
      "metadata": {
        "colab": {
          "base_uri": "https://localhost:8080/"
        },
        "id": "EoUsVivMtWql",
        "outputId": "afc06cc0-d471-4b29-c37b-2ae1b253eb25"
      },
      "execution_count": null,
      "outputs": [
        {
          "output_type": "stream",
          "name": "stdout",
          "text": [
            "\n",
            "Interpretation Insights:\n",
            "- Frequent items in Antecedents mean they are 'starter' products that lead to other purchases.\n",
            "- Frequent items in Consequents mean they are 'add-on' products often purchased together.\n"
          ]
        }
      ]
    },
    {
      "cell_type": "markdown",
      "source": [
        "Top 10 strongest association rules with lift, support, and confidence.\n",
        "\n",
        "Top 10 most common products that appear on the left side (antecedents).\n",
        "\n",
        "Top 10 most common products that appear on the right side (consequents).\n",
        "\n",
        "Counts of very strong rules (lift > 2) and highly confident rules (confidence > 0.7)."
      ],
      "metadata": {
        "id": "wREL4VbPthaX"
      }
    },
    {
      "cell_type": "markdown",
      "source": [
        "**What is lift and why is it important in Association ruls ?**\n",
        "\n",
        "Lift measures how much more likely two items are to be bought together compared to being bought independently.\n",
        "It tells you if two products are truly associated — or if they just happen to appear together by random chance.\n",
        "\n",
        "It filters out useless rules. (High support/confidence alone can be misleading.)\n",
        "\n",
        "It detects true relationships, not random co-occurrences.\n",
        "\n",
        "It prioritizes strong rules that have real business value (like bundling promotions).\n",
        "\n"
      ],
      "metadata": {
        "id": "hTMlwd4tuZgz"
      }
    },
    {
      "cell_type": "markdown",
      "source": [
        "**What is support and confidence. How do you calculate them ?**\n",
        "\n",
        "Support measures how frequently an itemset appears in the dataset.\n",
        "\n",
        "🔵 Support(A) =\n",
        "\n",
        "(Number of transactions containing A)\n",
        "÷\n",
        "(Total number of transactions)\n",
        "\n",
        "Confidence measures how often B is purchased when A is purchased.\n",
        "It’s the conditional probability that B is bought given A is already bought.\n",
        "\n",
        "🔵 Confidence(A → B) =\n",
        "\n",
        "(Support of A and B together)\n",
        "÷\n",
        "(Support of A)\n"
      ],
      "metadata": {
        "id": "9eDUSptgupr-"
      }
    },
    {
      "cell_type": "markdown",
      "source": [
        "**What are some limitations or challenges of Association rules mining ?**\n",
        "\n",
        "Too many rules-\tHard to find the important ones\n",
        "\n",
        "Missing rare rules-\tRare but important patterns lost\n",
        "\n",
        "Hard to interpret-\tAssociations ≠ Causation\n",
        "\n",
        "Scalability-\tAlgorithms can be very slow\n",
        "\n",
        "Handling numbers-\tNeeds extra data pre-processing\n",
        "\n",
        "Redundant rules\t-Creates confusion and clutter"
      ],
      "metadata": {
        "id": "fKdztmVvvHq0"
      }
    },
    {
      "cell_type": "code",
      "source": [],
      "metadata": {
        "id": "wMaJqI1ztZ_w"
      },
      "execution_count": null,
      "outputs": []
    }
  ]
}