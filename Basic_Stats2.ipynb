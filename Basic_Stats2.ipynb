{
  "nbformat": 4,
  "nbformat_minor": 0,
  "metadata": {
    "colab": {
      "provenance": []
    },
    "kernelspec": {
      "name": "python3",
      "display_name": "Python 3"
    },
    "language_info": {
      "name": "python"
    }
  },
  "cells": [
    {
      "cell_type": "markdown",
      "source": [
        "**Estimation and confidence interval**"
      ],
      "metadata": {
        "id": "sYppVCP-tUir"
      }
    },
    {
      "cell_type": "code",
      "execution_count": 3,
      "metadata": {
        "colab": {
          "base_uri": "https://localhost:8080/"
        },
        "id": "5EpfCWSDsnxU",
        "outputId": "af40d297-4a48-43b6-d4db-00cfb67f5277"
      },
      "outputs": [
        {
          "output_type": "execute_result",
          "data": {
            "text/plain": [
              "(1.0901973384384906, 1.3871359948948425)"
            ]
          },
          "metadata": {},
          "execution_count": 3
        }
      ],
      "source": [
        "import numpy as np\n",
        "import scipy.stats as stats\n",
        "\n",
        "# Data: Durability of print-heads in millions of characters\n",
        "data = np.array([1.13, 1.55, 1.43, 0.92, 1.25, 1.36, 1.32, 0.85, 1.07, 1.48, 1.20, 1.33, 1.18, 1.22, 1.29])\n",
        "\n",
        "# Sample statistics\n",
        "n = len(data)  # Sample size\n",
        "mean_x = np.mean(data)  # Sample mean\n",
        "std_x = np.std(data, ddof=1)  # Sample standard deviation (ddof=1 for unbiased estimate)\n",
        "\n",
        "# Confidence level and t-critical value\n",
        "t_critical = stats.t.ppf(0.995, df=n-1)  # 99% confidence level (two-tailed, 0.995)\n",
        "\n",
        "# Margin of error\n",
        "margin_of_error = t_critical * (std_x / np.sqrt(n))\n",
        "\n",
        "# Confidence Interval\n",
        "lower_bound = mean_x - margin_of_error\n",
        "upper_bound = mean_x + margin_of_error\n",
        "\n",
        "# Output the results\n",
        "(lower_bound, upper_bound)\n"
      ]
    },
    {
      "cell_type": "code",
      "source": [
        "import numpy as np\n",
        "import scipy.stats as stats\n",
        "\n",
        "# Data: Durability of print-heads in millions of characters\n",
        "data = np.array([1.13, 1.55, 1.43, 0.92, 1.25, 1.36, 1.32, 0.85, 1.07, 1.48, 1.20, 1.33, 1.18, 1.22, 1.29])\n",
        "\n",
        "# Sample statistics\n",
        "n = len(data)  # Sample size\n",
        "mean_x = np.mean(data)  # Sample mean\n",
        "\n",
        "# Given population standard deviation\n",
        "pop_std = 0.2\n",
        "\n",
        "# Confidence level and z-critical value\n",
        "z_critical = stats.norm.ppf(0.995)  # 99% confidence level (two-tailed, 0.995)\n",
        "\n",
        "# Margin of error\n",
        "margin_of_error = z_critical * (pop_std / np.sqrt(n))\n",
        "\n",
        "# Confidence Interval\n",
        "lower_bound = mean_x - margin_of_error\n",
        "upper_bound = mean_x + margin_of_error\n",
        "\n",
        "# Output the results\n",
        "(lower_bound, upper_bound)\n"
      ],
      "metadata": {
        "colab": {
          "base_uri": "https://localhost:8080/"
        },
        "id": "Xt2Z5fyKsxQS",
        "outputId": "f5a4e7cc-2b27-4924-8701-f9ec7bf32f3a"
      },
      "execution_count": 4,
      "outputs": [
        {
          "output_type": "execute_result",
          "data": {
            "text/plain": [
              "(1.1056514133957607, 1.3716819199375725)"
            ]
          },
          "metadata": {},
          "execution_count": 4
        }
      ]
    },
    {
      "cell_type": "code",
      "source": [],
      "metadata": {
        "id": "B254lGE6tNmz"
      },
      "execution_count": null,
      "outputs": []
    }
  ]
}