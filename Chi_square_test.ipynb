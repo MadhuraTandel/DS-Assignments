{
  "nbformat": 4,
  "nbformat_minor": 0,
  "metadata": {
    "colab": {
      "provenance": []
    },
    "kernelspec": {
      "name": "python3",
      "display_name": "Python 3"
    },
    "language_info": {
      "name": "python"
    }
  },
  "cells": [
    {
      "cell_type": "markdown",
      "source": [
        "**CHI-SQUARE TEST**\n",
        "\n",
        "---\n",
        "\n"
      ],
      "metadata": {
        "id": "6jsWZ1mk65ff"
      }
    },
    {
      "cell_type": "markdown",
      "source": [
        "**Data Provided:**\n",
        "\n",
        "The data is summarized in a contingency table showing the counts of customers in each satisfaction level for both types of devices:\n",
        "\n",
        "![image.png](data:image/png;base64,iVBORw0KGgoAAAANSUhEUgAAAhEAAAD/CAYAAABPT4TJAAAAAXNSR0IArs4c6QAAAARnQU1BAACxjwv8YQUAAAAJcEhZcwAADsMAAA7DAcdvqGQAACUfSURBVHhe7d0/TCTdme/x4s3s0Ndy8AqxGIh3M+vuCAiQLpBc3V1pApiIwEKCeAQJIQnoTZyAhB0QDcgayb5XDgCv2BUgdjXZbrgLmEWjkS3tdWZZqw1663eop+fpQ3V39RkYuprvRzrTXaf+dFWdU+c8dap436H//X/+ppHl/t+vf5X94he/yH76059qEgAAoKNv9I8CCAAAgF58QwABAABShJEIAACAXhFEAACAJAQRAAAgydDPf/7z8NcZhr/OAAAAVQw1csX3YGhoqPgGAADQXmkQEWUBAAA8wDsRAAAgCUEEAABIQhABAACSEEQAAIAkBBEAACBJz0HExMRE+AsOSzc3N8Wcaubn57OLi4vwXZ/ahvKq8r+/vb1d5KbT/mubZnV1NWz78PCwyEG/+NK691i0H+1+W/l+H+Okum7H8Vz7/5ji66cK3wagVR3quNpG7ZvaynZ6reNVtil1rzvafyvbslT1fPVyHtRPatuP0V+W6SmI0I5fX18XU/fGx8eLb91p/ePj42IqyyYnJ8Ofkx4dHRU5nemk6ffn5ubCemtra8WcNCqweP93dnbCthcWFooc9IMvrXuPRY1jvB8vVdn1003cBuCzQarjV1dXoR0dGxsrcr4cdede352HvKBblGQFeaUK8/JKXeQ0GnlnHvLOz8+LnPv1fTo4OAj5KysrLflaV+vZd2PbtLS1tRXybVmftE/t8j0/z/+Wz1fSvtp+2n6LvvvlbJ/EH4M/Rr8MvkyVuqd5dt6tDFQefp6SV1YnjZV5XB99su23U1a/xfbH1914mbjO2XGKHaPft5/97GfhU/vkj1fnzm8rrpd+H5TiY/LnU8nvp89XsmumXX6n8/3S1amO23pl84ztj2+LbZv6vXgbftrvsx27z1MahLpTdo7E6kLZsbY7D53Oj9WX+Np/LD0HEZ12Rjtuy/ikdcsO0howO+C4wbKkChY3dkrxybbkL8Sy+dqXsnn6HdtPfZd2+2TbKNsvS3HlQJoqdc83oj7F+VbXrNGKk22/bH5cv60OtBPXb9NuX+2329Upq09xndT22h1P2W9p+9JuHdvfdvvR6fqJz5Gldm0A7tWpjtt6neq/7ZPV2Xb7bttot69KMoh1Jz5H0u6a07JSdh66lbO1F+3q1ZeqHERIfABK1iCVsQppy8TTdsKsQtj2dVLKxMuX0XwlsZPrl/fz7cK1ApJ4H2x522d/seu77ZNNi1UOWwdfrlvds3NuF4otb2Vr5eTL2rO6ovX8tJJnv+Mv/HbsN+P6Gu9r/NvtrhObb42CP5Z4f309tbps27Vp2w+bFltHvxnvV8x+o905lfhY4ml8ZnXWJ3+e4npjy9v5t3rSrjzi8rRpJc9+p10d71YvxG+jbL+sHnTal3g/Bq3ulJ1nO0bf4dtyOkfS7TzE5WPthd/mY+rpnQi9L5DvSDF1b2pq6sELHvZyYq/Pbd68eRM+FxcXe37RxF7k8e7u7sLn0tJS+JT8mEOqwn47L7Tw/oboGV9eOOH7p0+fwqdoGXv+Nzs7Gz4/fvwYPvHlqta9169fh8/R0dHwuby8HD6//fbb8BnT+qo3qnNlrKyfgu3r8PBw+LT6pufJouPTvulT4mvBjs2z/fXPou39nvj5dN54hWfu/v0fO8equ5a/u7vbvB6rvnCc2ga8ZINYx8XaQV9ffZvs+X1Rmy6+nR10du379/02NzfDp/Vn7XQr56fS819n6OCsI1YDJO/evQufeuFDB6FgQPPVsfbCXrT0F5J+o9Nbpfo9JXuRB4OrU93rlb0NrvW1vTx6L+b0L2tgviadm/yOp5i6D/B1nbfzpW3AS/fS6zh699zlXDmIsB31DYhFSKK7JN11qOLbXXt8F1L1TV27kKzxOj09DZ8xuyuy6DWO2EdGRsLn/v5++BQbsdCy3fbH5us4bNs6Tt2ZSbvIH4+rW91LYXXCRr/Ozs7CZzd2d/SU7Dc0UmAditJjBxG6VvUbdh3J+vp6+LTREbHgXknsuo6vn8dsA16aQa7jVpf29vbCp/g2uaqXUHfs3Psb542NjfBp/Vl8HlLL+bFUDiJsaFONgiq7kg2bTE9Ph09Ro2Tz29EQXdndjA2BWrJh3JmZmfDZjg232vKmbJ+1f/7xhNg++8bU2KiItq1l7O5A+TSIX0fVupfCytUCw6pUD7r9TXsqG+rVb9jxKj3233lbJ6Vzab8hCsp1fVjH5pPEowt2/fzmN79pmbbly7RrA16qOtZx/5jLUlmZqi5pW75efElAPMh1xwIGBfN2rqzPsjpi4vOQWs5fqqfHGXYn4mnoRAenDtUPo6ghsunLy8vwaZFSO3omGDdQ2o5/PuTpd/0zNP1ePCoR77Mqs//vUvj1y+i34+EhBRDt9glPo1PdSxH/t0ls+ycnJ+GznXbPch+Tjulr1Dn9jn9UIboedB2K5vtHi9Lp+vnRj37Ust+aZ9NV24CXbJDruP9NtfEWwNp7HVW8hLqjgEtBg6fz5csyPg+p5fxYhvIfbKm5imTKKjMAAL3SYy4Fn6IOUjecGuHQHTM3ZPVHEAEAeFLqV8poJMw/Wkb99PzXGQAA9CIeohc9qiGAqD9GIgAAQBJGIgAAQBKCCAAAkIQgAgAAJCGIAAAASQgiAABAEoIIAACQhCACAAAkIYgAAABJCCIAAECSb379f3+d/eEPfygmAQAAqvnm+9//fvb3//D3BBIAAKAn38z+r9nsBz/4QfaP//SPRRYAAEB34Z2Iqcmp7D/+/39k//wv/xwyAQAAuglBxPe+973sL0b+Ivvd734XMgEAALpp/q/A//Xf/jU7vzjP/us//yvMAAAA6KQZRAAAAPSC/04EAABIwuMMAACQpBlE/Pbvfpv96U9/yv72b/424wkHAADoJjzO+POf/5z9+92/Zz/+8Y9DJgAAQDchiNBjjB/+jx9mf/WXfxUyAQAAuvnm5Lcn2R//+Mfsr//nXxdZD01MTGSrq6vFVKuLi4tsaGgofH4N+i2ftre3iznd3dzchHX0KbbvVej47Td/+ctfVl6vjM5nL/v90lk5+RTXRz/v8PCwyAX6n+qrr78++XbV51PH60/9QNxvxnUh7iesD7P0tfrdjn716181fv/73+vViCDPKr59dnBwUJovKysrjbm5uWLq6VxfX4d90L54ytM+VGHb0Gevyn471fj4eGNra6uYQjc6V53Oly8bK+Pz8/MwDdSR2lTfrlHHB4v6gLgM9V151j9ZObcr93j55/IgMtBOlfEH48X5auyVZ8kfoE6cLgzl20mMt6m8MlpO68SU79exE+uT8qwALGk9W9bowvXLGJ+nZeL14m3HHZ7to5LWJ4jojeqMznmZsnqh5asGlkC/Udvg6zR1fHBY/6iy06dv1zQvLlNfzpof37Br+rn7ksr/nYh8R7ONjY1i6p6GXvLKnS0sLIRpDb3s7e2pdw0pP0Fhvj0+kJOTkzDv6uoqy09Otr+/X8y5357yygwPD2d5Z/1gGE+/re2Jfmdqair8ru1DfpKzpaWlbGxsLKwv+rR9NjZsZOtpP+bn55t5kl/M2dHRUfhu9Js6Rv+bOge2Pe3v4uJi+E3Nm5mZae4HqlGdURnaEJ6Vi9zd3YVhQW96ejqsA9TR+vp6trm5WUxRxweN+oGdnZ1i6rO1tbUH+epfRkdHw/fb29vQj3nqT05PT4up51E5iHj9+nXo/PwzGAUAy8vLxVQWOk8fFExOToZO/P3790VO1rL8mzdvsuPj42Iqy87OzkJeGW1Lnbg6ZOtM4gtLJ1gFpGWNTnIVKiBPhRkHDGV0bAo4/G+qAdC5EJ0PBWBW+KooqE4Xkeqd6o0FaWKBRNmFBdSVbj78jZlQxwdHL+2/+lr1j+p7xQcU/aRyEKFKrIDg3bt3YVoHFB+gGnuNBFgnr6RlfAc9MjJSfLsPDHTBWGCyu7vb0hnHbNRBSR2zfk+/UfbSp/2+ovoq3r59G/bV1tPxVKEoUPtt6ynZyINoxMUfs+g8ohoLDP3FpwBPZVW1jIC60M2Hv9HCy6Q+UX2pbpz7PYCsHESIHmeowxTdgaszjA9Qnad19JbKhm7M7OxsCEw6Pcooo05F29ZjBO2TdSjWkSvI0Hx9VmGdlZICG6V4pKMd+6044ekpMieYwCBQx6H2027MDHX8ZVFfaAGEH5FSHxWPmPeDnoIIGznQQeoO378jYcHEhw8fwmdVenyhZ3t6lKHnfO1o+LpsxMFGLj59+hT2S/unDvxLHhto9EAXs1K3i1fH3emZlAIRHZun7aMaNawKCj2Vtejca5QnPp863wpOgTq5vLwM7Ze1pYY6/nLYO3S6OY7f2ysLJtX3VH1k/2TyDrdFSVaL/K47LJNX9iLnM5uXd75Fzv32lC9aR28ax7RMt9/NT2pYJl5f27Z90Ty/HVvH5mu/NG37Z/Nlbm6u5c3XeFv6br/t17Nt2jHKyspK8zdtWftNO0d+eXSmc+nPl6Z1jo0/n1YeOu9AnahO+3rtUccHT1yG1le0K1cr97gfsr7luTzoubVT3WiZdp2g8jXfku/01fj7adPp4vHsJPrkO37Rdmyefi8+0Vpe09oPm2e0vK3r1xFbR+L14v2K90nr+Xlxp4ju/PmN60p8/svqGNDv1Da0axeo44NH5egDBuub4uT7E+t7LPn1n0vzf8BlNHQcZT05vZGsIbt4+AYAAPSvvggi9N4A7wkAAFAvPb1Y+dj0EomCFv6kCQCA+umLkQgAAFA/zzoSAQAA6osgAgAAJCGIAAAASQgiAABAEoIIAACQhCACAAAkIYgAAABJCCIAAEASgggAAJCEIAIAACQhiAAAAEkIIgAAQBKCCAAAkIQgAgAAJCGIAAAASQgiAABAEoIIAACQhCACAAAkIYgAAABJCCIAAEASgggAAJCkpyBidXU1GxoaaqaJiYliTjXz8/PZ9vZ2MZWFbVxcXBRT7WkZ+02tX3W9MjoG7QfqxcpfSWUY8/MPDw+LXKB+1K6WtW+d6vjNzU3L/NT2EV9PWTn7vk6pDuVcOYhQx6sDaDQazTQ7OxsOJJW2MTk5WUy19+7du2xubi4sv7a2Vnk9DAbVvZWVlWa9Ozk5eRCMHhwchHnX19fZ4uIijShqSR2L6nCsUx1Xuzw+Pp6dn5+H+fqcmpoK+ehP7cpZ5Va7cs53pkVJVqD8fKeLqc+Unx90MdVo5AcZ8izljX/Iz4OAZp6+i77bNrUNm69k29T6Pj8/seHT74vftn7fs+UtaXv2+6gHlZsv762trWYZqp7EZa4ytnoH1IHqtLVPcX3vVsf99WA0rXz0l07lrO/K83w59ms5Vx6JUAS0ublZTH2WbyNbWFgI33XHqNEJ5SnllT/b3d0NkdTR0VEYTcgPOHz3FEkp4lLkpfXykxmmlb+zsxPuQrWu5o2NjRVr3dNvKs9+c3l5ufmYxSI37YdtV/uDelHZazTK7O3tZTMzM+H73d1ds7zN9PR0GK0A6kRtlNq7WLc6fnt7+6Bd1PVxenpaTKGftCtnG123Rxjqv46Pj7NXr16F6X4t58pBxNXVVTggexajFA8ZKzjwJ+cnP/lJ8a2zT58+Fd/u6WTqRMcnLGYn2f+mHncoGNG+vX//PnRAFuRou5pGvVjQafVOwazKWcouLKBurD6X6VbH1Q6Ojo4WU+hnncpZ1O9tbGyEdk43wOrLLLjo13Lu6cVKHaCSDkz0PEYHG7MXMHUSqrDOXctrPf+8u5MPHz6ET63jk3z8+LFt5IZ6UZnq4rH6t7+/z8uxAAaKbnzV1ql9s7ZOfWLV/vC59BREGHXMZQdpwYOG2TTPgo0qdLepdfS4Y319PWwnHukoo9+3ffHJRh9QbxraUxn7CF4jTxqBsshcn8Cg6lbH1R7rhgn1pke2enRvIw+iR/F6fCv9Ws6Vggg15HaHH9M7EHZget9A7x3o0UcqdRYKAjQycXl5WeSWGx4eDoFKuwtMF1/8bJyLbbCMjIw8qG9nZ2ehXgKDoFsdLwsy9JycUdfB0rflnHfYLUqygvxu8MGboXkH3vKGqb7rTWKjdfx8re/fJLV5WkfftT3jt6U3Wf1vx9vU7xjl+/l+OzYvPg70N5WZrzcqv7g+2Py4TgJ1U1Z/O9Vxm47bOd+eov/E5Wzl5vM0HZd7v5Vz5SBC1HBrvk/+AOygLGlaHbydBAsWrAOwZUTL+HVtHekUREi8X36f7MRbireFevBlGJdfXMZ2kQF1pDrs2zfpVsfL2l70t7JyisvR94PSj+U8pH/ynWnSY4soCwAA4IGkFysBAAAIIgAAQBKCCAAAkIQgAgAAJCGIAAAASQgiAABAEoIIAACQhCACAAAkIYgAAABJCCIAAEASgggAAJCEIAIAACQhiAAAAEkIIgAAQBKCCAAAkIQgAgAAJCGIAAAASQgiAABAEoIIAACQhCACAAAkIYgAAABJCCIAAEASgggAAJCEIAIAACSpHERMTExk8/PzxdRnFxcX2dDQUDH1ZR5jW1pf28FgUd1T2VqK+XmHh4dFLlAfvg5vb28XuZ/5+dTx+lOfGvdVKndfznFZ39zctMzrh76up5GI4+Pj0soNPCUFEFdXV1mj0Qhpa2srXIBGF9PBwUGYd319nS0uLhJIolZUh1dWVpp1/PT0tKWtpY4PFrVfKseYyv38/LxZD5QWFhbCPAUQ4+Pjzfn6nJqaCvnPKt+ZFiVZQb7zjbm5uTA/P/git9HID+TBOracktYzWi9eP79wwvK2HUuazi+aME/bUJ6mxS+nlHcqIV80rXUxGKxe+DrjqU74OiaqU0pAHagOq4571lYKdXxwqK9SuarsyvqquJw9rav+0NO07/+eQ08jEUtLS1m+09ns7GyR85DuGsfGxlT7Q1peXm65a2xncnIyRFai9TQtGv3Y3NwMeYrItC3didr29X19ff35ozE8iY8fP4boW3WqzN3d3YP6NT09nZ2cnBRTQP9THS+jdo06PljUb+3s7BRTn1kfZo8qlPxo1O3t7YN2cGZmJoxePKeeX6w8OjoKwzBljzV0EtTp+xO0trYWlv+SoTcbzhENa2ub5tWrV8U3DCJrQP2zQt+gll1YQJ2ofYvb1O+++674Rh0fJL7vin348CHUA91M202ybpCtXqh/HR0dDd/7SdJfZxwcHJTe/eskiI+klER3lCnaRej2op2eCWGwKTAVu7A0EhbfmQF1ps5Dbaq1mf3YWeBpKZhU+2aj8KK+dm9vr5jqT0lBhA52ZWWl9LGGOn1r7H3yowlfwoIH0XbtEQgGlx6h+Qj+7du3odG1yDwOZoG68Y+AlfwIK3UcojqiUal+kxREiB5ZqCHX+wpmeHi42bg/BW1Xd6X6DT1WweDr9rhqZGQkPOLyzs7OOr63A/S7y8vL5rtA1PGXQY8tdJPs+fdhyoJJvQ+h9yKeVR71tijJCvIK3fzrCGNvFft17K8pjL1db2+h6ru9TZoHA2Ha3ji1ZU38VrItb9sSTStpnk37+ai/uO6pvlidEZV5XKeoA6iLuM7atK/z1PHBE5dht3oQT2s5TSv/OX1RECH2pyqeGnjlWfIHaQeupG3qwvAdgvI0T8vp93wQIcqz9ZXiE2vrYrBYvVCK64TVAUtl9RToZ75dLKvD1PHBo3KM+6pu9SCe3w993ZD+yXemSe8bRFkAAAAPJL8TAQAAXjaCCAAAkIQgAgAAJCGIAAAASQgiAABAEoIIAACQhCACAAAkIYgAAABJCCIAAEASgggAAJCEIAIAACQhiAAAAEkIIgAAQBKCCAAAkIQgAgAAJCGIAAAASQgiAABAEoIIAACQhCACAAAkIYgAAABJCCIAAEASgggAAJCEIAIAACSpHERMTExkh4eHxdRnFxcX2dDQUDH1dOLf0b5on6qYn58P6yr1sl4Z2wa+LpWZleH29naR+5nNo3xQR9a++bS6ulrMvefnUcfry5djXMbi59ehnGs7ErGwsJBdXV0VU+3d3Nxkx8fH2fn5edZoNCqvh/6hIHB2djaUn9L6+nrLxaWL7eDgIMy7vr7OFhcXQ6MM1MXl5WW2tbXVrONKOzs7xVzq+KBQW7aystIs45OTk5abojqW86MHEbpj1EmxSEpJHblR5NVunjoGP8/m6yROTU2FZZSnaS3rRxT8narla93x8fHwXevrt+P1tC1bTymO/PyxlEWNeFoWBL59+7bIycJFeHZ2Fr6rvFTGCg5lbGwszH/37l2YBurg9vY2e/XqVTHVijo+ONSWvXnzppjKsuXl5ez09DR8r2s5P8lIhO4ULdLSSbDOVydJkZfNU+StO0xRZ66oS9GXzdcJ1bqTk5NhJEGUr2lPy/g7VQUJylMhaHui9X1kLxac+N/UPlggoQDCHwu+PpWhzr0+ze7ubjY9PR2+393dtQSFonmqZ0BdqL4uLS01b1h0x2qo44Njbm6uJSjY29vLZmZmwve6lvOTBBEKDoxOgj0+0Eny1tbWmvMUGMSdhQUY3fjRDDk6OnoQMJRRYWpf/W9qen9/P3xXAWtoyfi7YXx9usDUwOpCtGhdd3C+/IC6UfulGxndlfobFgskqOODQ32TWLC4ubkZ+kGpazk/SRAxMjJSfLtnowE6WfpuJ1AjATFdUDZfd5xVbGxshGVtvaoU4WmkwdZT0rQFNtrX4eHh8F1UwPZ4BF+fykUNrCL3OGIH6krtiuq1dSaimyANfcc3SKg39TGjo6PNYFE3rH7UqY6++ouVdvJ0N6lHCdbpW/CgTtpeLNGjkCpsFENJtJ2qBWO/5RMvXva3169fhwBPdUYXJA0tBhl1fDDYOw/tgsW6lnPlIEJ3fvHjCNFbxSl35xrWsU5fIxLv378PgYXybKg6hdbX+w8qmG50TPaCXhkdl47Ps1EVfB324ms7GvWKgz6VadVHYcBzK6vjnz59Cp8apaCOvwy1Lee8021RkhXkHXOYp0+Td6ghL7+bL3IajbzjbZnWd9vmyspKmG9sm9rO1tZWyzxbLw8swrQtazTfltentm38tmwfbb/9erZNv7/6PftNv++i34iXx9OLy9eXkahMVOYSlzdQB6rjVoclrvPU8cHgy1EGoS2rHESIdbo+xR2qKr/PiztinTC/vj9Bfp6+x+tq27aO5mna2HqWTKcgQuJj8heuqED9PH3648PXYWWg5C86sTK2RPmgjnwdjtsh6vjg8OU4CG3ZkP7Jd7ZJw2pRFgAAwANf/cVKAAAwGAgiAABAEoIIAACQhCACAAAkIYgAAABJCCIAAEASgggAAJCEIAIAACQhiAAAAEkIIgAAQBKCCAAAkIQgAgAAJCGIAAAASQgiAABAEoIIAACQhCACAAAkIYgAAABJCCIAAEASgggAAJCEIAIAACQhiAAAAEkIIgAAQBKCCAAAkIQgAgAAJKkURExMTGSrq6vFVKuLi4tsaGgofD4l+50y2rd2+/eYtre3s/n5+WIqC9+VV4X2XUnr9LJe7PDwsO15GFQ3NzfN82fnMObn6xwBdWLtm09xm+bnUcfrx9rusuT7T59fh3KuFERsbm5mu7u7xVSrd+/eZXNzc9nk5GSR83IcHR1la2trxVR7VhEajUZYp+p6uDc+Pp4dHByE86d0dXXV0sDqYrP519fX2eLi4pMHtcBjury8zLa2tpp1XGlnZ6eYSx0fBAsLCy3lq6S+c2Vlpdl/1rKc851tUZIVKD8/uGLqszg/vxBCnqX8RBRzGo28M2jkJyzk63u8riivzPn5edt52qaS2HJ+P/KCCvOM/baSvnu2f/H8+LhE21W+6Dj9fNsfHZ/P17RfTzqdM/H7a/v3Uqg84zLSObQ8/934+gDUgeqr6noZ6vhgUrvvy7Wu5Vz5nYj8gLONjY1i6p7usPODDhGWaIh+b29PPVxI+UUR5ms42pycnIR5upvMT062v79fzLnfnvIew+3tbXM/jo+Pm6MBuoOdnZ1tzvOParT/tn9KigSVlK+RA50DRY6aF9M280rQXFcjN/pNnRvli/LtXJlu50z75/e33YjQoFKErrri3d3dhfMSfzfT09OhHIG6UH1dWlpqDmP7R3bU8cG0vr4eRvlNXcu5chDx+vXr0KH6oRUFAMvLy8VUFjpDHxSoA1Cn+/79+yIna1n+zZs3oYM3Z2dnIe8xvH37tviWhX1QAYkPaESPFmzYUIGC77DGxsZCh16Fzo1XFjCU6XTOdK61XT+sqUDmpdPFpwZXFCyqnIC6Upuk61xto90siAUS1PHBo5tHfwMudS3nykGEDk6dm96BEFV8BQAKLmxaF8LU1FQzmlbSMjo5ZmRkpPh232HqRFpgortsezb0peLCsH3QaIp+x/avjEYQbH4cHLSjzl3Pr7RO2Yt/Zbqds48fPz4IYl69elV8e5l0fjRaVSVAA+pAbZUCB/+elG4c1A7ENz0YDLp59DfUdVY5iBDrgEV3ygoq4s5anaJF05b8nXRMQ/UKTB7zUUYnClJsv8R3+hY8KBiw46g6EqEGQMvrcYQufm1H0WYVvZ6zl0iNqQUQ/tyMjo7S0GKgUccHi40w2w24qWs59xRE2MiBOlsNKft3JCyY+PDhQ/isSo8v9MxHjzL0/Kedb7/9NnyWnWStrwLole/0RY8VNKKg/Dg4qsqCFG3n9PS0yC3X7ZwNDw+HyuaPWaMTL42OX/VO5zQOrjSyFb8zobqk4BSoA3UqCpC9T58+hU+1EdTxwaK/xFF7FvcxdS3nnoII0RCM7tR1EuJHDzak7zu9bnfk2oY6So1wdBqi1gnXXWh8QrVtrV/1Tyb14or/80ArUOMfvWg5bbsbHa+OU8GVUQBRJRDpdM50bjTa89133xVzsrDsS2MBRFkZq86ojKyO6TyqLj3WuzXAU7ObM99O6p0fG5mljg8W9TFlgUFtyzm/a25RkvWAlskb9WKqlfI135L+bMXkF0rLtMkvlsp/xqLl/PaVPP2ZVJyXd8Qt2++0vs/XsWg9rS95Abeso3w7D/a7lmwd0THbOuLXk07nTHTebJ4d/0sRnxufjC8XpbI6BvQ7X4fj9pA6Pjji9t+rYzkP6Z98Z5t0FxxlPTlFXhrK4WU5AADqoy+CCD1iiJ8FAQCA/tbzOxGPyf4aYlD+1AUAgJekL0YiAABA/TzrSAQAAKgvgggAAJCEIAIAACQhiAAAAEkIIgAAQBKCCAAAkIQgAgAAJCGIAAAASQgiAABAEoIIAACQhCACAAAkIYgAAABJCCIAAEASgggAAJCEIAIAACQhiAAAAEkIIgAAQBKCCAAAkIQgAgAAJCGIAAAASQgiAABAkspBxPz8fDY0NNQ23dzcFEt2pu1cXFwUU51tb2+HbesTL5fqlq9rqkPtrK6uPpgfr1+1/gFf08TERLOOlrV5vg5Tx+sr7ktjft7h4WGRe68fy/mrjkTo5B0fHxdTQDXj4+PZwcFB1mg0Qrq6ugrBQkwX1O7ubjF1Txed1j8/Pw/r6nNqairkA/1CbePs7Gyzjq+vr7d0IOowVlZWmvPFrgHqeH2onNV+WTlubW2F4NGonK2tu76+zhYXF5uBQt+Wc74zLUqyHsgPJCyXH2SRc0/Tyrc0NzdXzGk08gugdF67fMlPcMjTJ16m/EIJ9c3LL7IHeaI81Z+4Dvlp0TR1Cv3C2k3fnqpdVBLV1bL6bqjj9aC2LC5nr6xdi+tBP5bzo41EKFrKT0AxdU+jDj7KiinSju8ctQ6PL2AmJydD5O7d3d09qFeqM8vLy9nY2FiRc+/29vZB3szMTHZ6elpMAc9L9TNvi1vqqdrF6enp8F11WKMU7VDH6+Hjx4+hj4zLypS1a6oDJycn4Xu/lvOjBRGbm5vhM4+KwgWhpBOWR10hWNjZ2cnyqCkso2GYo6OjbGFhobmskoZxRCcLaEdDvUtLS8XU/TDf3t5etra2VuR8pnmjo6PFFNDf7L0ItZVqH8XqsH+W7h/nUcfrwYIEe9dPyQcNZUGC16/l/GhBhN0t+obcAgudvE40iqETquc/QCeqJysrK80GVtSg7u/vF1NAfdnzct1h+g5GgfPGxkbzhkt3p2XvBaG/2TuBVo4aYYpHH+rmq75YGdMIhTqFd+/ehRNqIxFATFG4BRAa1TKqQ4re9dijjOYxsoW6ef36dRjFVb0XjfD6Oq4bNBvmpo7Xh0aY/I3227dvm+WsUQYr7zL9Ws6PFkRYNOXfZ1DkLCMjI+EzHqqxu8c3b96Ez7Ozs/AJeLqw9GhMDakPIER1SM+PFWAo6buifX2XsgtTzxB1pwf0AxuJbadbXaWO18OrV6+Kb+XUT8bvf6lPtPdh+racG5GSrAf0BqmW82+Z2puncfJvk+otU5+v5Je15N9G1fRzv32K59VLHVDd8XVOdVTr681n6faGNPAc1KZauyfWPorVYV9n/TVBHa8PlbOVk/hylrJyVXn66X4r50cLIsQO0pI/OeIDDZvnl7dpbV8IImB1oCyViYMI8fVOyS5KoJ/4OhrX4bht9QGHUMfrw/pPJevrTFzOPuCQfiznIf2T70yThtWiLAAAgAee9cVKAABQXwQRAAAgCUEEAABIQhABAACSEEQAAIAkBBEAACAJQQQAAEhCEAEAAJIQRAAAgCQEEQAAIAlBBAAASEIQAQAAkhBEAACAJAQRAAAgCUEEAABIQhABAACSEEQAAIAkBBEAACAJQQQAAEhCEAEAAJIMNXLF92BoaKj4BgAA0E6W/TfsW/Z9L3O7EQAAAABJRU5ErkJggg==)"
      ],
      "metadata": {
        "id": "j1SiXXCs7Flx"
      }
    },
    {
      "cell_type": "markdown",
      "source": [
        "**Objective:**\n",
        "\n",
        "To use the Chi-Square test for independence to determine if there's a significant association between the type of smart home device purchased (Smart Thermostats vs. Smart Lights) and the customer satisfaction level.\n"
      ],
      "metadata": {
        "id": "kiNEninZ7YsN"
      }
    },
    {
      "cell_type": "markdown",
      "source": [
        "**Assignment Tasks:**\n",
        "1. State the Hypotheses:\n",
        "2. Compute the Chi-Square Statistic:\n",
        "3. Determine the Critical Value:\n",
        "Using the significance level (alpha) of 0.05 and the degrees of freedom (which is the number of categories minus 1)\n",
        "4. Make a Decision:\n",
        "Compare the Chi-Square statistic with the critical value to decide whether to reject the null hypothesis."
      ],
      "metadata": {
        "id": "nClX9xAK7dgK"
      }
    },
    {
      "cell_type": "markdown",
      "source": [
        "**Step 1: State the Hypotheses**\n",
        "Null Hypothesis (\n",
        "𝐻\n",
        "0\n",
        "​\n",
        " ): There is no association between the type of smart home device purchased and customer satisfaction level.\n",
        "Alternative Hypothesis (\n",
        "𝐻\n",
        "𝐴\n",
        "​\n",
        " ): There is a significant association between the type of smart home device purchased and customer satisfaction level.\n",
        "\n",
        "---\n",
        "\n"
      ],
      "metadata": {
        "id": "--hL5vqm7s0-"
      }
    },
    {
      "cell_type": "markdown",
      "source": [
        "**Step 2: Compute the Chi-Square Statistic**\n",
        "We will calculate the Chi-Square test statistic using:\n",
        "\n",
        "𝜒\n",
        "2\n",
        "=\n",
        "∑\n",
        "(\n",
        "𝑂\n",
        "−\n",
        "𝐸\n",
        ")\n",
        "2/\n",
        "𝐸\n",
        "\n",
        "where:\n",
        "\n",
        "\n",
        "O is the observed frequency,\n",
        "𝐸\n",
        "=\n",
        "row total\n",
        "×\n",
        "column total/\n",
        "grand total is the expected frequency."
      ],
      "metadata": {
        "id": "fLn5nGqL7_ME"
      }
    },
    {
      "cell_type": "code",
      "source": [
        "import scipy.stats as stats\n",
        "import numpy as np\n",
        "\n",
        "# Observed Frequencies (Contingency Table)\n",
        "observed = np.array([[50, 70],\n",
        "                     [80, 100],\n",
        "                     [60, 90],\n",
        "                     [30, 50],\n",
        "                     [20, 50]])\n",
        "\n",
        "# Perform Chi-Square Test\n",
        "chi2_stat, p_value, dof, expected = stats.chi2_contingency(observed)\n",
        "print(\"Chi-Square Statistic:\", chi2_stat)\n",
        "print(\"Degrees of Freedom:\", dof)"
      ],
      "metadata": {
        "colab": {
          "base_uri": "https://localhost:8080/"
        },
        "id": "0TqsiLNl7uZH",
        "outputId": "b0060f3d-86eb-4fd1-c301-405405cfe7c3"
      },
      "execution_count": 1,
      "outputs": [
        {
          "output_type": "stream",
          "name": "stdout",
          "text": [
            "Chi-Square Statistic: 5.638227513227513\n",
            "Degrees of Freedom: 4\n"
          ]
        }
      ]
    },
    {
      "cell_type": "markdown",
      "source": [
        "**Step 3: Determine the Critical Value**\n",
        "\n",
        "The degrees of freedom (df) are calculated as:\n",
        "df=(r-1)*(c-1)"
      ],
      "metadata": {
        "id": "udOezCJD9XpP"
      }
    },
    {
      "cell_type": "code",
      "source": [
        "# Critical Value at alpha = 0.05\n",
        "critical_value = stats.chi2.ppf(0.95, dof)\n",
        "print(\"Critical Value (alpha = 0.05):\", critical_value)"
      ],
      "metadata": {
        "colab": {
          "base_uri": "https://localhost:8080/"
        },
        "id": "NHhPLlFI9J49",
        "outputId": "631136ee-0afc-4999-d1a1-1d692d760abd"
      },
      "execution_count": 2,
      "outputs": [
        {
          "output_type": "stream",
          "name": "stdout",
          "text": [
            "Critical Value (alpha = 0.05): 9.487729036781154\n"
          ]
        }
      ]
    },
    {
      "cell_type": "markdown",
      "source": [
        "**Step 4: Conclusion:**\n",
        "\n",
        "Since the computed Chi-Square statistic (5.64) is less than the critical value (9.49), we fail to reject the null hypothesis. This means there is no significant association between the type of smart home device purchased and customer satisfaction level at the 0.05 significance level. ​"
      ],
      "metadata": {
        "id": "lFhChWEf-CWx"
      }
    },
    {
      "cell_type": "code",
      "source": [],
      "metadata": {
        "id": "Wy5NYDpa91e-"
      },
      "execution_count": null,
      "outputs": []
    }
  ]
}