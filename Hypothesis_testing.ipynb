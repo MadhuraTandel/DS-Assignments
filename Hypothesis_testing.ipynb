{
  "nbformat": 4,
  "nbformat_minor": 0,
  "metadata": {
    "colab": {
      "provenance": []
    },
    "kernelspec": {
      "name": "python3",
      "display_name": "Python 3"
    },
    "language_info": {
      "name": "python"
    }
  },
  "cells": [
    {
      "cell_type": "markdown",
      "source": [
        "**Hypothesis Testing**"
      ],
      "metadata": {
        "id": "dX8gsmCHAP_Q"
      }
    },
    {
      "cell_type": "markdown",
      "source": [
        "**Step 1: State the Hypotheses**\n",
        "\n",
        "Null Hypothesis (\n",
        "𝐻\n",
        "0\n",
        "H\n",
        "0\n",
        "​\n",
        " ): The weekly operating costs follow the theoretical cost model, i.e., there is no significant increase in costs.\n",
        "Alternative Hypothesis (\n",
        "𝐻\n",
        "𝐴\n",
        "H\n",
        "A\n",
        "​\n",
        " ): The weekly operating costs are significantly higher than the theoretical cost model suggests."
      ],
      "metadata": {
        "id": "-fDLjef-Ajjj"
      }
    },
    {
      "cell_type": "markdown",
      "source": [
        "**Step 2: Calculate the Test Statistic**\n",
        "\n",
        "The test statistic (\n",
        "𝑡\n",
        "t) is calculated using the formula:\n",
        "\n",
        "𝑡\n",
        "=\n",
        "𝑥\n",
        "ˉ\n",
        "−\n",
        "𝜇 /\n",
        "𝜎 /\n",
        "sqrt 𝑛\n",
        "where:\n",
        "\n",
        "𝑥\n",
        "ˉ\n",
        "=\n",
        "3\n",
        ",\n",
        "050 (sample mean weekly cost),\n",
        "𝜇\n",
        "=\n",
        "1\n",
        ",\n",
        "000\n",
        "+\n",
        "5\n",
        "×\n",
        "600\n",
        "=\n",
        "4\n",
        ",\n",
        "000(theoretical mean weekly cost),\n",
        "𝜎\n",
        "=\n",
        "5\n",
        "×\n",
        "25\n",
        "=\n",
        "125(standard deviation of weekly cost),\n",
        "𝑛\n",
        "=\n",
        "25 (sample size).\n",
        "\n"
      ],
      "metadata": {
        "id": "Rm7agpupA2OB"
      }
    },
    {
      "cell_type": "markdown",
      "source": [
        "**Step 3: Determine the Critical Value**\n",
        "\n",
        "Using a significance level (\n",
        "α) of 0.05 for a one-tailed test, we determine the critical value from the standard normal (Z) distribution table:\n",
        "Z 0.05=1.645"
      ],
      "metadata": {
        "id": "Jw9NTO1dB7xp"
      }
    },
    {
      "cell_type": "code",
      "source": [
        "import scipy.stats as stats\n",
        "import numpy as np\n",
        "\n",
        "# Given Data\n",
        "sample_mean = 3050  # Sample mean weekly cost\n",
        "X_mean = 600  # Mean number of units produced\n",
        "sigma_X = 25  # Standard deviation of units produced\n",
        "n = 25  # Sample size\n",
        "\n",
        "theoretical_mean = 1000 + (5 * X_mean)  # Compute theoretical mean\n",
        "sigma_W = 5 * sigma_X  # Compute standard deviation of W\n",
        "\n",
        "# Compute Test Statistic\n",
        "t_stat = (sample_mean - theoretical_mean) / (sigma_W / np.sqrt(n))\n",
        "\n",
        "# Critical Value at alpha = 0.05 (one-tailed test)\n",
        "alpha = 0.05\n",
        "critical_value = stats.norm.ppf(1 - alpha)\n",
        "\n",
        "# Output results\n",
        "print(\"Test Statistic (t):\", t_stat)\n",
        "print(\"Critical Value (alpha = 0.05):\", critical_value)\n",
        "\n",
        "# Decision\n",
        "if t_stat > critical_value:\n",
        "    print(\"Reject the null hypothesis: Weekly operating costs are significantly higher.\")\n",
        "else:\n",
        "    print(\"Fail to reject the null hypothesis: No strong evidence that weekly operating costs are higher.\")\n"
      ],
      "metadata": {
        "colab": {
          "base_uri": "https://localhost:8080/"
        },
        "id": "ZlZVha52AU2M",
        "outputId": "df568b09-93d8-4470-994e-28729dc88b9d"
      },
      "execution_count": 1,
      "outputs": [
        {
          "output_type": "stream",
          "name": "stdout",
          "text": [
            "Test Statistic (t): -38.0\n",
            "Critical Value (alpha = 0.05): 1.6448536269514722\n",
            "Fail to reject the null hypothesis: No strong evidence that weekly operating costs are higher.\n"
          ]
        }
      ]
    },
    {
      "cell_type": "markdown",
      "source": [
        "**Step 4: Make a Decision**\n",
        "\n",
        "Fail to reject the null hypothesis: No strong evidence that weekly operating costs are higher."
      ],
      "metadata": {
        "id": "Xu2U-V-GCaAy"
      }
    },
    {
      "cell_type": "code",
      "source": [],
      "metadata": {
        "id": "CE_GK5hWCQOw"
      },
      "execution_count": null,
      "outputs": []
    }
  ]
}